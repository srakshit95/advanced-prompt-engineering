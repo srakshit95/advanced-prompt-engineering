{
 "cells": [
  {
   "cell_type": "code",
   "execution_count": 1,
   "id": "4219c5e9",
   "metadata": {},
   "outputs": [],
   "source": [
    "# !pip install tree-of-thoughts-llm --user"
   ]
  },
  {
   "cell_type": "code",
   "execution_count": 2,
   "id": "5c32c6a7",
   "metadata": {},
   "outputs": [
    {
     "name": "stdout",
     "output_type": "stream",
     "text": [
      "Warning: OPENAI_API_KEY is not set\n"
     ]
    }
   ],
   "source": [
    "import os\n",
    "import argparse\n",
    "from tot.methods.bfs import solve\n",
    "from tot.tasks.game24 import Game24Task\n",
    "\n",
    "os.environ[\"OPENAI_API_KEY\"] = open('key.txt','r').read()"
   ]
  },
  {
   "cell_type": "code",
   "execution_count": null,
   "id": "fa3f3c1d",
   "metadata": {},
   "outputs": [
    {
     "name": "stdout",
     "output_type": "stream",
     "text": [
      "functools.partial(<function gpt at 0x000002DBC9E203A0>, model='gpt-4', temperature=0.7)\n"
     ]
    }
   ],
   "source": [
    "args = argparse.Namespace(backend='gpt-4', \n",
    "                          temperature=0.7, \n",
    "                          task='game24', \n",
    "                          naive_run=True, \n",
    "                          prompt_sample=None, \n",
    "                          method_generate='propose', \n",
    "                          method_evaluate='value', \n",
    "                          method_select='greedy', \n",
    "                          n_generate_sample=1, \n",
    "                          n_evaluate_sample=3, \n",
    "                          n_select_sample=5)\n",
    "\n",
    "task = Game24Task()\n",
    "ys, infos = solve(args, task, 900)\n",
    "print(ys[0])"
   ]
  },
  {
   "cell_type": "code",
   "execution_count": null,
   "id": "62cec61e",
   "metadata": {},
   "outputs": [],
   "source": []
  }
 ],
 "metadata": {
  "kernelspec": {
   "display_name": "Python 3 (ipykernel)",
   "language": "python",
   "name": "python3"
  },
  "language_info": {
   "codemirror_mode": {
    "name": "ipython",
    "version": 3
   },
   "file_extension": ".py",
   "mimetype": "text/x-python",
   "name": "python",
   "nbconvert_exporter": "python",
   "pygments_lexer": "ipython3",
   "version": "3.11.7"
  }
 },
 "nbformat": 4,
 "nbformat_minor": 5
}
